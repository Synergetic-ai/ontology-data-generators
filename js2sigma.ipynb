{
 "cells": [
  {
   "cell_type": "code",
   "execution_count": null,
   "metadata": {
    "collapsed": true
   },
   "outputs": [],
   "source": [
    "import json\n",
    "import matplotlib.pyplot as plt\n",
    "\n",
    "JSON_EXT = '.json'\n",
    "CYTOSCAPE_JS_EXT = '.cyjs'\n",
    "\n",
    "Blues = plt.get_cmap('Blues')\n",
    "\n",
    "def find_min_max(nodes):\n",
    "    \n",
    "    scores = []\n",
    "    \n",
    "    for node in nodes:\n",
    "         if \"score\" in node[\"data\"]:\n",
    "                scores.append(node[\"data\"][\"score\"])\n",
    "    \n",
    "    min_score = min(scores)\n",
    "    max_score = max(scores)\n",
    "    \n",
    "    return (min_score, max_score)"
   ]
  },
  {
   "cell_type": "code",
   "execution_count": null,
   "metadata": {
    "collapsed": false
   },
   "outputs": [],
   "source": [
    "def convert2sigma(in_file_name, out_file_name):\n",
    "    print('Source file: ' + in_file_name)\n",
    "\n",
    "    # Load Original Cyjs file\n",
    "    cyjs_file = open(in_file_name)\n",
    "    source_json = json.load(cyjs_file)\n",
    "    cyjs_file.close()\n",
    "    \n",
    "    \n",
    "\n",
    "    # Output files\n",
    "    out = open(out_file_name, \"w\")\n",
    "\n",
    "    nodeMap = {}\n",
    "\n",
    "    sourceNodes = source_json[\"elements\"][\"nodes\"]\n",
    "    sourceEdges = source_json[\"elements\"][\"edges\"]\n",
    "\n",
    "    min_max = find_min_max(sourceNodes)\n",
    "    score_range = min_max[1] - min_max[0]\n",
    "    \n",
    "    nodeList = []\n",
    "    edgeList = []\n",
    "\n",
    "    for node in sourceNodes:\n",
    "        termID = node[\"data\"][\"Manual_Name\"]\n",
    "        x = node[\"position\"][\"x\"]\n",
    "        y = node[\"position\"][\"y\"]\n",
    "        suid = node[\"data\"][\"SUID\"]\n",
    "        if \"Size\" in node[\"data\"]:\n",
    "            size = node[\"data\"][\"Size\"] * 2\n",
    "        else:\n",
    "            size = 6.0\n",
    "        \n",
    "        if \"score\" in node[\"data\"]:\n",
    "            ratio = (node[\"data\"][\"score\"] - min_max[0]) / score_range\n",
    "            col1 = Blues(ratio)\n",
    "            color = (\n",
    "                int(col1[0] * 255),\n",
    "                int(col1[1] * 255),\n",
    "                int(col1[2]* 255)\n",
    "            )\n",
    "            print(str(color))\n",
    "        else:\n",
    "            color = (200,200,200)\n",
    "      \n",
    "    \n",
    "        \n",
    "        newNode = {\n",
    "            'id':termID, \n",
    "            'label':termID,\n",
    "            'size':size,\n",
    "            'x':x, 'y':y, \n",
    "            'color':\"rgb(58,150,43)\"\n",
    "        }\n",
    "        \n",
    "        nodeMap[str(suid)] = termID\n",
    "        nodeList.append(newNode)\n",
    "\n",
    "    for edge in sourceEdges:\n",
    "        source = nodeMap[edge['data']['source']]\n",
    "        target = nodeMap[edge['data']['target']]\n",
    "        interaction = edge['data']['interaction']\n",
    "        edgeList.append({'source':source, 'target':target, 'relationship':interaction, 'weight':1.0})\n",
    "\n",
    "    graph = {}\n",
    "\n",
    "    graph[\"nodes\"] = nodeList\n",
    "    graph[\"edges\"] = edgeList\n",
    "\n",
    "    out.write(json.dumps(graph, sort_keys=True, indent=4))\n",
    "    out.close()"
   ]
  },
  {
   "cell_type": "code",
   "execution_count": null,
   "metadata": {
    "collapsed": false
   },
   "outputs": [],
   "source": [
    "# Test run\n",
    "convert2sigma('atgo.cyjs', 'atgo.json')"
   ]
  }
 ],
 "metadata": {
  "kernelspec": {
   "display_name": "Python 3",
   "language": "python",
   "name": "python3"
  },
  "language_info": {
   "codemirror_mode": {
    "name": "ipython",
    "version": 3
   },
   "file_extension": ".py",
   "mimetype": "text/x-python",
   "name": "python",
   "nbconvert_exporter": "python",
   "pygments_lexer": "ipython3",
   "version": "3.4.3"
  }
 },
 "nbformat": 4,
 "nbformat_minor": 0
}
