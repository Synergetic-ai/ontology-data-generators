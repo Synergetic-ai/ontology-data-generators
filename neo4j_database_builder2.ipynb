{
 "cells": [
  {
   "cell_type": "markdown",
   "metadata": {},
   "source": [
    "# Database builder for AtgO Ontology Viewer\n",
    "\n",
    "## Introduction\n",
    "\n",
    "This is a script to insert AtgO data (DAG and raw interactions) into Neo4j database.\n",
    "\n",
    "This is V2.  Additional information will be added from Gene Association file.\n",
    "\n",
    "## Log\n",
    "\n",
    "* 3/2/2016 - Adding new data, such as publications. "
   ]
  },
  {
   "cell_type": "code",
   "execution_count": 1,
   "metadata": {
    "collapsed": false
   },
   "outputs": [
    {
     "name": "stdout",
     "output_type": "stream",
     "text": [
      "Index(Node, 'http://localhost:7474/db/data/index/node/Vertex')\n",
      "0\n"
     ]
    }
   ],
   "source": [
    "from py2neo import Graph\n",
    "from py2neo import Node, Relationship\n",
    "import pandas as pd\n",
    "import numpy as np\n",
    "\n",
    "# For legacy INDEXER\n",
    "from py2neo import neo4j\n",
    "\n",
    "# Start from scratch...\n",
    "g = Graph()\n",
    "g.delete_all()\n",
    "\n",
    "# Create index object\n",
    "idx = g.legacy.get_or_create_index(neo4j.Node, \"Vertex\")\n",
    "\n",
    "print(idx)\n",
    "print(g.size)"
   ]
  },
  {
   "cell_type": "markdown",
   "metadata": {},
   "source": [
    "## Create Ontology DAG in Neo4j"
   ]
  },
  {
   "cell_type": "code",
   "execution_count": 2,
   "metadata": {
    "collapsed": false
   },
   "outputs": [
    {
     "data": {
      "text/html": [
       "<div>\n",
       "<table border=\"1\" class=\"dataframe\">\n",
       "  <thead>\n",
       "    <tr style=\"text-align: right;\">\n",
       "      <th></th>\n",
       "      <th>Term Number</th>\n",
       "      <th>Term Name</th>\n",
       "      <th>Similarity Score</th>\n",
       "      <th>Term Size</th>\n",
       "    </tr>\n",
       "  </thead>\n",
       "  <tbody>\n",
       "    <tr>\n",
       "      <th>215</th>\n",
       "      <td>247</td>\n",
       "      <td>247</td>\n",
       "      <td>3.855</td>\n",
       "      <td>44</td>\n",
       "    </tr>\n",
       "    <tr>\n",
       "      <th>216</th>\n",
       "      <td>248</td>\n",
       "      <td>248</td>\n",
       "      <td>1.482</td>\n",
       "      <td>46</td>\n",
       "    </tr>\n",
       "    <tr>\n",
       "      <th>217</th>\n",
       "      <td>249</td>\n",
       "      <td>autophagy and related processes</td>\n",
       "      <td>3.856</td>\n",
       "      <td>300</td>\n",
       "    </tr>\n",
       "    <tr>\n",
       "      <th>218</th>\n",
       "      <td>250</td>\n",
       "      <td>250</td>\n",
       "      <td>2.430</td>\n",
       "      <td>431</td>\n",
       "    </tr>\n",
       "    <tr>\n",
       "      <th>219</th>\n",
       "      <td>251</td>\n",
       "      <td>251</td>\n",
       "      <td>2.004</td>\n",
       "      <td>444</td>\n",
       "    </tr>\n",
       "  </tbody>\n",
       "</table>\n",
       "</div>"
      ],
      "text/plain": [
       "     Term Number                        Term Name  Similarity Score  Term Size\n",
       "215          247                              247             3.855         44\n",
       "216          248                              248             1.482         46\n",
       "217          249  autophagy and related processes             3.856        300\n",
       "218          250                              250             2.430        431\n",
       "219          251                              251             2.004        444"
      ]
     },
     "execution_count": 2,
     "metadata": {},
     "output_type": "execute_result"
    }
   ],
   "source": [
    "# Read properties for AtgO terms\n",
    "df_term_props = pd.read_csv('./atgo2_term_info.txt', sep=\"\\t\")\n",
    "df_term_props.tail()"
   ]
  },
  {
   "cell_type": "code",
   "execution_count": 3,
   "metadata": {
    "collapsed": false
   },
   "outputs": [
    {
     "name": "stdout",
     "output_type": "stream",
     "text": [
      "712\n"
     ]
    },
    {
     "data": {
      "text/html": [
       "<div>\n",
       "<table border=\"1\" class=\"dataframe\">\n",
       "  <thead>\n",
       "    <tr style=\"text-align: right;\">\n",
       "      <th></th>\n",
       "      <th>target</th>\n",
       "      <th>source</th>\n",
       "      <th>type</th>\n",
       "    </tr>\n",
       "  </thead>\n",
       "  <tbody>\n",
       "    <tr>\n",
       "      <th>0</th>\n",
       "      <td>212</td>\n",
       "      <td>RIM13</td>\n",
       "      <td>gene</td>\n",
       "    </tr>\n",
       "    <tr>\n",
       "      <th>1</th>\n",
       "      <td>212</td>\n",
       "      <td>VPS4</td>\n",
       "      <td>gene</td>\n",
       "    </tr>\n",
       "    <tr>\n",
       "      <th>2</th>\n",
       "      <td>174</td>\n",
       "      <td>IWR1</td>\n",
       "      <td>gene</td>\n",
       "    </tr>\n",
       "    <tr>\n",
       "      <th>3</th>\n",
       "      <td>174</td>\n",
       "      <td>VPS21</td>\n",
       "      <td>gene</td>\n",
       "    </tr>\n",
       "    <tr>\n",
       "      <th>4</th>\n",
       "      <td>172</td>\n",
       "      <td>MSN1</td>\n",
       "      <td>gene</td>\n",
       "    </tr>\n",
       "  </tbody>\n",
       "</table>\n",
       "</div>"
      ],
      "text/plain": [
       "   target source  type\n",
       "0     212  RIM13  gene\n",
       "1     212   VPS4  gene\n",
       "2     174   IWR1  gene\n",
       "3     174  VPS21  gene\n",
       "4     172   MSN1  gene"
      ]
     },
     "execution_count": 3,
     "metadata": {},
     "output_type": "execute_result"
    }
   ],
   "source": [
    "df = pd.read_csv('./AtgO2.txt', sep=\"\\t\", names=[\"target\", \"source\", \"type\"])\n",
    "\n",
    "nodes = []\n",
    "\n",
    "s = df[\"source\"].astype(str)\n",
    "t = df[\"target\"].astype(str)\n",
    "\n",
    "all_nodes = s.append(t).unique()\n",
    "\n",
    "print(len(all_nodes))\n",
    "df.head()"
   ]
  },
  {
   "cell_type": "code",
   "execution_count": 4,
   "metadata": {
    "collapsed": false
   },
   "outputs": [
    {
     "data": {
      "text/html": [
       "<div>\n",
       "<table border=\"1\" class=\"dataframe\">\n",
       "  <thead>\n",
       "    <tr style=\"text-align: right;\">\n",
       "      <th></th>\n",
       "      <th>term</th>\n",
       "      <th>genes</th>\n",
       "    </tr>\n",
       "  </thead>\n",
       "  <tbody>\n",
       "    <tr>\n",
       "      <th>0</th>\n",
       "      <td>1</td>\n",
       "      <td>RIM13|VPS4|IWR1|VPS21|MSN1|SSD1|AKR1|AKR2|GCN2...</td>\n",
       "    </tr>\n",
       "    <tr>\n",
       "      <th>1</th>\n",
       "      <td>2</td>\n",
       "      <td>RIM13|VPS4|IWR1|VPS21|MSN1|SSD1|AKR1|AKR2|GCN2...</td>\n",
       "    </tr>\n",
       "    <tr>\n",
       "      <th>2</th>\n",
       "      <td>3</td>\n",
       "      <td>RIM13|VPS4|IWR1|VPS21|MSN1|SSD1|AKR1|AKR2|GCN2...</td>\n",
       "    </tr>\n",
       "    <tr>\n",
       "      <th>3</th>\n",
       "      <td>5</td>\n",
       "      <td>VPS4|IWR1|VPS21|SSD1|AKR1|AKR2|GCN2|GCN4|CTK1|...</td>\n",
       "    </tr>\n",
       "    <tr>\n",
       "      <th>4</th>\n",
       "      <td>6</td>\n",
       "      <td>VPS4|IWR1|VPS21|GCN2|GCN4|CTK1|SEC7|DOM34|HBS1...</td>\n",
       "    </tr>\n",
       "  </tbody>\n",
       "</table>\n",
       "</div>"
      ],
      "text/plain": [
       "   term                                              genes\n",
       "0     1  RIM13|VPS4|IWR1|VPS21|MSN1|SSD1|AKR1|AKR2|GCN2...\n",
       "1     2  RIM13|VPS4|IWR1|VPS21|MSN1|SSD1|AKR1|AKR2|GCN2...\n",
       "2     3  RIM13|VPS4|IWR1|VPS21|MSN1|SSD1|AKR1|AKR2|GCN2...\n",
       "3     5  VPS4|IWR1|VPS21|SSD1|AKR1|AKR2|GCN2|GCN4|CTK1|...\n",
       "4     6  VPS4|IWR1|VPS21|GCN2|GCN4|CTK1|SEC7|DOM34|HBS1..."
      ]
     },
     "execution_count": 4,
     "metadata": {},
     "output_type": "execute_result"
    }
   ],
   "source": [
    "# Assign genes\n",
    "df2 = pd.read_csv('AtgO2_terms_to_genes.txt', sep=\"\\t\", names=[\"term\", \"genes\"])\n",
    "df2.head()"
   ]
  },
  {
   "cell_type": "code",
   "execution_count": 5,
   "metadata": {
    "collapsed": false
   },
   "outputs": [],
   "source": [
    "assigned_genes = {}\n",
    "\n",
    "for row in df2.itertuples():\n",
    "    genes = row[2]\n",
    "    gene_list = genes.split('|')\n",
    "    assigned_genes[str(row[1])] = gene_list"
   ]
  },
  {
   "cell_type": "code",
   "execution_count": 6,
   "metadata": {
    "collapsed": false
   },
   "outputs": [
    {
     "name": "stderr",
     "output_type": "stream",
     "text": [
      "/usr/local/lib/python3.5/site-packages/IPython/core/interactiveshell.py:2902: DtypeWarning: Columns (3) have mixed types. Specify dtype option on import or set low_memory=False.\n",
      "  interactivity=interactivity, compiler=compiler, result=result)\n"
     ]
    }
   ],
   "source": [
    "# Extract gene info from GA file\n",
    "HEADER = [\"DB\", \"DB_Object_ID\", \"DB_Object_Symbol\", \"Qualifier\", \"GO ID\", \"DB:Reference\", \"Evidence\", \"With (or) From\",\n",
    "    \"Aspect\", \"DB_Object_Name\", \"DB_Object_Synonym\", \"DB_Object_Type\", \"taxon\", \"Date\", \"Assigned_by\", \n",
    "          \"Annotation Extension\", \"Gene Product Form ID\"]\n",
    "df_ga = pd.read_csv('./gene_association.sgd', sep=\"\\t\", comment=\"!\", header=None, names=HEADER);"
   ]
  },
  {
   "cell_type": "code",
   "execution_count": 7,
   "metadata": {
    "collapsed": false
   },
   "outputs": [],
   "source": [
    "gene_details = {}\n",
    "\n",
    "for row in df_ga.itertuples():\n",
    "    details = {}\n",
    "    sgd_id = row[2]\n",
    "    key = row[3]\n",
    "    full_name = row[10]\n",
    "    synonym = str(row[11])\n",
    "    details[\"sgd\"] = str(sgd_id)\n",
    "    details[\"name\"] = str(full_name)\n",
    "    syn_list = synonym.split('|')\n",
    "    details[\"syn_list\"] = syn_list\n",
    "    gene_details[key] = details\n"
   ]
  },
  {
   "cell_type": "code",
   "execution_count": 9,
   "metadata": {
    "collapsed": false
   },
   "outputs": [
    {
     "name": "stdout",
     "output_type": "stream",
     "text": [
      "cell cycle and Snf1 signaling pathway\n"
     ]
    }
   ],
   "source": [
    "# Test find term info\n",
    "ti = df_term_props.loc[df_term_props[\"Term Number\"] == 243]\n",
    "print(ti[\"Term Name\"].values[0])\n",
    "\n",
    "def is_int(str_val):\n",
    "    try: \n",
    "        int(str_val)\n",
    "        return True\n",
    "    except ValueError:\n",
    "        return False\n",
    "\n",
    "def add_node(node_name, assigned_genes, index, df_t):\n",
    "    \n",
    "    node_props = {\n",
    "        \"name\": str(node_name)\n",
    "    }\n",
    "    \n",
    "    if is_int(node_name):\n",
    "        tid = int(node_name)\n",
    "        term_info = df_t.loc[df_t[\"Term Number\"] == tid]\n",
    "    \n",
    "        if term_info.empty == False:\n",
    "            node_props[\"term_name\"] = str(term_info[\"Term Name\"].values[0])\n",
    "            node_props[\"similarity_score\"] = term_info[\"Similarity Score\"].values[0]\n",
    "            node_props[\"term_size\"] = int(term_info[\"Term Size\"].values[0])\n",
    "    else:\n",
    "        node_props[\"term_name\"] = str(node_name)\n",
    "    \n",
    "    if node_name in assigned_genes:\n",
    "        node_props[\"assigned_genes\"] = assigned_genes[node_name]\n",
    "    \n",
    "    # This is a gene entry:\n",
    "    if node_name in gene_details:\n",
    "        details = gene_details[node_name]\n",
    "        node_props[\"sgd\"] = str(details[\"sgd\"])\n",
    "        node_props[\"full_name\"] = details[\"name\"]\n",
    "        node_props[\"synonyms\"] = details[\"syn_list\"] \n",
    "   \n",
    "    node = index.get_or_create(\"name\", node_name, node_props)\n",
    "    \n",
    "    # Extra index\n",
    "    index.add_if_none(\"term_name\", node_props[\"term_name\"], node)\n",
    "    \n",
    "    return node"
   ]
  },
  {
   "cell_type": "code",
   "execution_count": 10,
   "metadata": {
    "collapsed": false
   },
   "outputs": [],
   "source": [
    "# Create actual DAG in database\n",
    "\n",
    "nodes = {}\n",
    "\n",
    "for row in df.itertuples():\n",
    "    source_name = str(row[2])\n",
    "    target_name = str(row[1])\n",
    "    \n",
    "    if source_name in nodes:\n",
    "        source = nodes[source_name]\n",
    "    else:\n",
    "        source = add_node(source_name, assigned_genes, idx, df_term_props)\n",
    "        nodes[source_name] = source\n",
    "    \n",
    "    if target_name in nodes:\n",
    "        target = nodes[target_name]\n",
    "    else:\n",
    "        target = add_node(target_name, assigned_genes, idx, df_term_props)\n",
    "        nodes[target_name] = target\n",
    "\n",
    "    edge = Relationship(source, \"child_of\", target)\n",
    "    edge.properties[\"type\"] = \"term_relation\" \n",
    "    g.create(edge)"
   ]
  },
  {
   "cell_type": "code",
   "execution_count": 11,
   "metadata": {
    "collapsed": false
   },
   "outputs": [
    {
     "name": "stdout",
     "output_type": "stream",
     "text": [
      "1445\n",
      "(n672 {assigned_genes:[\"VPS4\",\"VPS21\",\"SSD1\",\"AKR1\",\"AKR2\",\"GCN2\",\"GCN4\",\"CTK1\",\"SGV1\",\"PTK2\",\"PTK1\",\"ARF1\",\"SEC7\",\"ATG8\",\"SNX4\",\"IRS4\",\"IPL1\",\"BIR1\",\"RHO1\",\"PKC1\",\"ATG14\",\"VPS30\",\"ARP2\",\"ACT1\",\"STT4\",\"LSB6\",\"VMA2\",\"YPT32\",\"YPT31\",\"GGA1\",\"EPL1\",\"ESA1\",\"SMK1\",\"CDC28\",\"KIN82\",\"FPK1\",\"CDC5\",\"PSK2\",\"GPD1\",\"ATG7\",\"OPI1\",\"CBF1\",\"VAC8\",\"YCK3\",\"NTH1\",\"NVJ1\",\"MIG1\",\"MON1\",\"CCZ1\",\"ARL1\",\"KDX1\",\"PTC1\",\"ATG18\",\"RIM15\",\"GIS1\",\"VPS9\",\"ATG19\",\"ATG26\",\"TOF2\",\"CSM1\",\"STE11\",\"STE50\",\"NBP2\",\"GCN3\",\"BMH1\",\"BMH2\",\"SWH1\",\"ARF2\",\"GEA1\",\"GEA2\",\"SIP2\",\"SNF1\",\"SLG1\",\"WSC3\",\"KIN1\",\"KIN2\",\"AFT1\",\"AFT2\",\"SIC1\",\"GTR2\",\"YCK1\",\"YCK2\",\"YPK1\",\"YPK2\",\"PHO85\",\"PHO80\",\"YPT52\",\"UBP3\",\"BRE5\",\"SEC4\",\"YPT1\",\"CKA2\",\"CKA1\",\"ATG1\",\"ATG13\",\"ATG10\",\"ATG27\",\"SSK22\",\"SSK2\",\"VPS29\",\"PEP8\",\"ATG3\",\"MID2\",\"MTL1\",\"VPS52\",\"VPS51\",\"RCK2\",\"HOG1\",\"PKH1\",\"PKH2\",\"TOR2\",\"TOR1\",\"PEP12\",\"VAM7\",\"VAM3\",\"VTC3\",\"VTC4\",\"VTC2\",\"COG3\",\"ATG12\",\"SNF8\",\"VPS36\",\"HAL5\",\"SAT4\",\"TLG2\",\"VPS13\",\"VPS1\",\"CMK1\",\"SLT2\",\"MPS1\",\"SKM1\",\"STE20\",\"CLA4\",\"REG1\",\"DUN1\",\"RAD53\",\"CHK1\",\"SEC2\",\"SNF2\",\"ARF3\",\"SYS1\",\"ARL3\",\"PRK1\",\"AKL1\",\"ARK1\",\"UTH1\",\"GET3\",\"TPK1\",\"TPK2\",\"TPK3\",\"KCC4\",\"GIN4\",\"CDC3\",\"HSL1\",\"MRK1\",\"RIM11\",\"MCK1\",\"DBF2\",\"DBF20\",\"ADR1\",\"MSN4\",\"ZAP1\",\"MSN2\",\"TPS2\",\"PHO4\",\"RPD3\",\"YPT53\",\"ATG11\",\"BRO1\",\"YPT7\",\"VAM6\",\"PBS2\",\"SHO1\",\"ATG20\",\"VTC1\",\"COG4\",\"VPS15\",\"VPS34\",\"VPS38\",\"RAV1\",\"CMK2\",\"CMD1\",\"MYO2\",\"ATG17\",\"KOG1\",\"DOA1\",\"CDC48\",\"SEC18\",\"NPL4\",\"SHP1\",\"RTG3\",\"SCH9\",\"PEP7\",\"MVP1\",\"RVS161\",\"ERD1\",\"YAK1\",\"YGK3\",\"VPS33\",\"VPS16\",\"VPS41\",\"PEP5\",\"PEP3\",\"STE7\",\"WHI2\",\"TRS23\",\"GSG1\",\"TRS31\",\"TRS20\",\"TRS33\",\"BET3\",\"BET5\",\"TRS130\",\"SWE1\",\"CAK1\",\"PCL6\",\"COG8\",\"COG5\",\"COG2\",\"COG1\",\"COG7\",\"COG6\",\"KIN28\",\"DOA4\",\"RCK1\",\"VPS3\",\"ENV7\",\"TOS3\",\"FUS3\",\"BEM1\",\"ELM1\",\"CBK1\",\"RAS2\",\"VPS8\",\"ATG9\",\"SSN3\",\"SAK1\",\"CIS1\",\"ATG29\",\"ATG5\",\"ATG15\",\"ATG16\",\"ATG22\",\"SKS1\",\"PCL5\",\"RTK1\",\"SFT2\",\"NPR1\",\"HRK1\",\"ARV1\",\"FAB1\",\"BCK1\",\"KSS1\",\"MKK1\",\"MKK2\",\"VPS27\",\"PCL1\",\"SEC17\",\"VTI1\",\"VPS45\",\"KKQ8\",\"PSK1\",\"FMP48\",\"KNS1\",\"KIN3\",\"HRR25\",\"IME2\",\"SKY1\",\"KSP1\",\"ATG4\",\"GYP7\",\"RSP5\",\"KIC1\",\"CDC14\",\"CDC15\",\"KES1\",\"RIC1\",\"PRR2\",\"CDC7\",\"ATG32\",\"PTC6\",\"ATG23\",\"GYP1\",\"CLG1\",\"YPK3\",\"PSR2\",\"ATG2\",\"HSV2\",\"SIR2\",\"PKH3\",\"MEK1\",\"KIN4\",\"SPS1\",\"RPM2\",\"YPL150W\",\"VHS1\",\"FRK1\",\"ESP1\",\"OPY2\",\"ATG21\"],name:\"249\",similarity_score:3.8560000000000003,term_name:\"autophagy and related processes\",term_size:300})\n",
      "(n580 {full_name:\"Putative glycoside hydrolase of the mitochondrial intermembrane space\",name:\"YBR056W\",sgd:\"S000000260\",synonyms:[\"YBR056W\",\"17-beta-hydroxysteroid dehydrogenase-like protein\"],term_name:\"YBR056W\"})\n"
     ]
    }
   ],
   "source": [
    "print(g.size)\n",
    "\n",
    "# test result\n",
    "results = idx.query(\"name:YBR056W\")\n",
    "\n",
    "res2 = idx.get(\"term_name\", \"autophagy and related processes\")\n",
    "\n",
    "print(res2[0])\n",
    "\n",
    "for n in results:\n",
    "    print(n)"
   ]
  },
  {
   "cell_type": "markdown",
   "metadata": {},
   "source": [
    "## Insert raw interactions"
   ]
  },
  {
   "cell_type": "code",
   "execution_count": 12,
   "metadata": {
    "collapsed": false
   },
   "outputs": [
    {
     "name": "stdout",
     "output_type": "stream",
     "text": [
      "(26548, 18)\n"
     ]
    },
    {
     "data": {
      "text/html": [
       "<div>\n",
       "<table border=\"1\" class=\"dataframe\">\n",
       "  <thead>\n",
       "    <tr style=\"text-align: right;\">\n",
       "      <th></th>\n",
       "      <th>INT1</th>\n",
       "      <th>INT2</th>\n",
       "      <th>Co-expression</th>\n",
       "      <th>Genetic interactions</th>\n",
       "      <th>Protein-protein interactions</th>\n",
       "      <th>Domain co-occurrence</th>\n",
       "      <th>Genomic context</th>\n",
       "      <th>Phylogenetic similarity</th>\n",
       "      <th>Predicted from 3D structure</th>\n",
       "      <th>Conditional genetic interactions</th>\n",
       "      <th>Co-expression.1</th>\n",
       "      <th>Genetic interactions.1</th>\n",
       "      <th>Protein-protein interactions.1</th>\n",
       "      <th>Domain co-occurrence.1</th>\n",
       "      <th>Genomic context.1</th>\n",
       "      <th>Phylogenetic similarity.1</th>\n",
       "      <th>Predicted from 3D structure.1</th>\n",
       "      <th>Conditional genetic interactions.1</th>\n",
       "    </tr>\n",
       "  </thead>\n",
       "  <tbody>\n",
       "    <tr>\n",
       "      <th>0</th>\n",
       "      <td>YBR056W</td>\n",
       "      <td>GPM2</td>\n",
       "      <td>1.998</td>\n",
       "      <td>0</td>\n",
       "      <td>0</td>\n",
       "      <td>0</td>\n",
       "      <td>0</td>\n",
       "      <td>0</td>\n",
       "      <td>0</td>\n",
       "      <td>0</td>\n",
       "      <td>22745270</td>\n",
       "      <td>0</td>\n",
       "      <td>0</td>\n",
       "      <td>0</td>\n",
       "      <td>0</td>\n",
       "      <td>0</td>\n",
       "      <td>0</td>\n",
       "      <td>0</td>\n",
       "    </tr>\n",
       "    <tr>\n",
       "      <th>1</th>\n",
       "      <td>YBR056W</td>\n",
       "      <td>KKQ8</td>\n",
       "      <td>1.642</td>\n",
       "      <td>0</td>\n",
       "      <td>0</td>\n",
       "      <td>0</td>\n",
       "      <td>0</td>\n",
       "      <td>0</td>\n",
       "      <td>0</td>\n",
       "      <td>0</td>\n",
       "      <td>22289124</td>\n",
       "      <td>0</td>\n",
       "      <td>0</td>\n",
       "      <td>0</td>\n",
       "      <td>0</td>\n",
       "      <td>0</td>\n",
       "      <td>0</td>\n",
       "      <td>0</td>\n",
       "    </tr>\n",
       "    <tr>\n",
       "      <th>2</th>\n",
       "      <td>YBR056W</td>\n",
       "      <td>RTK1</td>\n",
       "      <td>2.047</td>\n",
       "      <td>0</td>\n",
       "      <td>0</td>\n",
       "      <td>0</td>\n",
       "      <td>0</td>\n",
       "      <td>0</td>\n",
       "      <td>0</td>\n",
       "      <td>0</td>\n",
       "      <td>21348598</td>\n",
       "      <td>0</td>\n",
       "      <td>0</td>\n",
       "      <td>0</td>\n",
       "      <td>0</td>\n",
       "      <td>0</td>\n",
       "      <td>0</td>\n",
       "      <td>0</td>\n",
       "    </tr>\n",
       "    <tr>\n",
       "      <th>3</th>\n",
       "      <td>YBR056W</td>\n",
       "      <td>YBR287W</td>\n",
       "      <td>1.612</td>\n",
       "      <td>0</td>\n",
       "      <td>0</td>\n",
       "      <td>0</td>\n",
       "      <td>0</td>\n",
       "      <td>0</td>\n",
       "      <td>0</td>\n",
       "      <td>0</td>\n",
       "      <td>24170935</td>\n",
       "      <td>0</td>\n",
       "      <td>0</td>\n",
       "      <td>0</td>\n",
       "      <td>0</td>\n",
       "      <td>0</td>\n",
       "      <td>0</td>\n",
       "      <td>0</td>\n",
       "    </tr>\n",
       "    <tr>\n",
       "      <th>4</th>\n",
       "      <td>YBR056W</td>\n",
       "      <td>YET2</td>\n",
       "      <td>1.942</td>\n",
       "      <td>0</td>\n",
       "      <td>0</td>\n",
       "      <td>0</td>\n",
       "      <td>0</td>\n",
       "      <td>0</td>\n",
       "      <td>0</td>\n",
       "      <td>0</td>\n",
       "      <td>24170935</td>\n",
       "      <td>0</td>\n",
       "      <td>0</td>\n",
       "      <td>0</td>\n",
       "      <td>0</td>\n",
       "      <td>0</td>\n",
       "      <td>0</td>\n",
       "      <td>0</td>\n",
       "    </tr>\n",
       "    <tr>\n",
       "      <th>5</th>\n",
       "      <td>YBR056W</td>\n",
       "      <td>YIL055C</td>\n",
       "      <td>2.096</td>\n",
       "      <td>0</td>\n",
       "      <td>0</td>\n",
       "      <td>0</td>\n",
       "      <td>0</td>\n",
       "      <td>0</td>\n",
       "      <td>0</td>\n",
       "      <td>0</td>\n",
       "      <td>26150418</td>\n",
       "      <td>0</td>\n",
       "      <td>0</td>\n",
       "      <td>0</td>\n",
       "      <td>0</td>\n",
       "      <td>0</td>\n",
       "      <td>0</td>\n",
       "      <td>0</td>\n",
       "    </tr>\n",
       "    <tr>\n",
       "      <th>6</th>\n",
       "      <td>YBR056W</td>\n",
       "      <td>YDL027C</td>\n",
       "      <td>1.706</td>\n",
       "      <td>0</td>\n",
       "      <td>0</td>\n",
       "      <td>0</td>\n",
       "      <td>0</td>\n",
       "      <td>0</td>\n",
       "      <td>0</td>\n",
       "      <td>0</td>\n",
       "      <td>GSE30054</td>\n",
       "      <td>0</td>\n",
       "      <td>0</td>\n",
       "      <td>0</td>\n",
       "      <td>0</td>\n",
       "      <td>0</td>\n",
       "      <td>0</td>\n",
       "      <td>0</td>\n",
       "    </tr>\n",
       "    <tr>\n",
       "      <th>7</th>\n",
       "      <td>YBR056W</td>\n",
       "      <td>YDL057W</td>\n",
       "      <td>1.436</td>\n",
       "      <td>0</td>\n",
       "      <td>0</td>\n",
       "      <td>0</td>\n",
       "      <td>0</td>\n",
       "      <td>0</td>\n",
       "      <td>0</td>\n",
       "      <td>0</td>\n",
       "      <td>18854817</td>\n",
       "      <td>0</td>\n",
       "      <td>0</td>\n",
       "      <td>0</td>\n",
       "      <td>0</td>\n",
       "      <td>0</td>\n",
       "      <td>0</td>\n",
       "      <td>0</td>\n",
       "    </tr>\n",
       "    <tr>\n",
       "      <th>8</th>\n",
       "      <td>YBR056W</td>\n",
       "      <td>UGX2</td>\n",
       "      <td>2.716</td>\n",
       "      <td>0</td>\n",
       "      <td>0</td>\n",
       "      <td>0</td>\n",
       "      <td>0</td>\n",
       "      <td>0</td>\n",
       "      <td>0</td>\n",
       "      <td>0</td>\n",
       "      <td>22289124</td>\n",
       "      <td>0</td>\n",
       "      <td>0</td>\n",
       "      <td>0</td>\n",
       "      <td>0</td>\n",
       "      <td>0</td>\n",
       "      <td>0</td>\n",
       "      <td>0</td>\n",
       "    </tr>\n",
       "    <tr>\n",
       "      <th>9</th>\n",
       "      <td>YBR056W</td>\n",
       "      <td>YGR130C</td>\n",
       "      <td>1.982</td>\n",
       "      <td>0</td>\n",
       "      <td>0</td>\n",
       "      <td>0</td>\n",
       "      <td>0</td>\n",
       "      <td>0</td>\n",
       "      <td>0</td>\n",
       "      <td>0</td>\n",
       "      <td>20581845</td>\n",
       "      <td>0</td>\n",
       "      <td>0</td>\n",
       "      <td>0</td>\n",
       "      <td>0</td>\n",
       "      <td>0</td>\n",
       "      <td>0</td>\n",
       "      <td>0</td>\n",
       "    </tr>\n",
       "  </tbody>\n",
       "</table>\n",
       "</div>"
      ],
      "text/plain": [
       "      INT1     INT2  Co-expression  Genetic interactions  \\\n",
       "0  YBR056W     GPM2          1.998                     0   \n",
       "1  YBR056W     KKQ8          1.642                     0   \n",
       "2  YBR056W     RTK1          2.047                     0   \n",
       "3  YBR056W  YBR287W          1.612                     0   \n",
       "4  YBR056W     YET2          1.942                     0   \n",
       "5  YBR056W  YIL055C          2.096                     0   \n",
       "6  YBR056W  YDL027C          1.706                     0   \n",
       "7  YBR056W  YDL057W          1.436                     0   \n",
       "8  YBR056W     UGX2          2.716                     0   \n",
       "9  YBR056W  YGR130C          1.982                     0   \n",
       "\n",
       "   Protein-protein interactions  Domain co-occurrence  Genomic context  \\\n",
       "0                             0                     0                0   \n",
       "1                             0                     0                0   \n",
       "2                             0                     0                0   \n",
       "3                             0                     0                0   \n",
       "4                             0                     0                0   \n",
       "5                             0                     0                0   \n",
       "6                             0                     0                0   \n",
       "7                             0                     0                0   \n",
       "8                             0                     0                0   \n",
       "9                             0                     0                0   \n",
       "\n",
       "   Phylogenetic similarity  Predicted from 3D structure  \\\n",
       "0                        0                            0   \n",
       "1                        0                            0   \n",
       "2                        0                            0   \n",
       "3                        0                            0   \n",
       "4                        0                            0   \n",
       "5                        0                            0   \n",
       "6                        0                            0   \n",
       "7                        0                            0   \n",
       "8                        0                            0   \n",
       "9                        0                            0   \n",
       "\n",
       "   Conditional genetic interactions Co-expression.1  Genetic interactions.1  \\\n",
       "0                                 0        22745270                       0   \n",
       "1                                 0        22289124                       0   \n",
       "2                                 0        21348598                       0   \n",
       "3                                 0        24170935                       0   \n",
       "4                                 0        24170935                       0   \n",
       "5                                 0        26150418                       0   \n",
       "6                                 0        GSE30054                       0   \n",
       "7                                 0        18854817                       0   \n",
       "8                                 0        22289124                       0   \n",
       "9                                 0        20581845                       0   \n",
       "\n",
       "   Protein-protein interactions.1  Domain co-occurrence.1  Genomic context.1  \\\n",
       "0                               0                       0                  0   \n",
       "1                               0                       0                  0   \n",
       "2                               0                       0                  0   \n",
       "3                               0                       0                  0   \n",
       "4                               0                       0                  0   \n",
       "5                               0                       0                  0   \n",
       "6                               0                       0                  0   \n",
       "7                               0                       0                  0   \n",
       "8                               0                       0                  0   \n",
       "9                               0                       0                  0   \n",
       "\n",
       "   Phylogenetic similarity.1  Predicted from 3D structure.1  \\\n",
       "0                          0                              0   \n",
       "1                          0                              0   \n",
       "2                          0                              0   \n",
       "3                          0                              0   \n",
       "4                          0                              0   \n",
       "5                          0                              0   \n",
       "6                          0                              0   \n",
       "7                          0                              0   \n",
       "8                          0                              0   \n",
       "9                          0                              0   \n",
       "\n",
       "  Conditional genetic interactions.1  \n",
       "0                                  0  \n",
       "1                                  0  \n",
       "2                                  0  \n",
       "3                                  0  \n",
       "4                                  0  \n",
       "5                                  0  \n",
       "6                                  0  \n",
       "7                                  0  \n",
       "8                                  0  \n",
       "9                                  0  "
      ]
     },
     "execution_count": 12,
     "metadata": {},
     "output_type": "execute_result"
    }
   ],
   "source": [
    "# New Raw interaction data \n",
    "df_raw2 = pd.read_csv('./raw_interactions_w_pm_ids.txt', sep=\"\\t\");\n",
    "print(df_raw2.shape)\n",
    "df_raw2.head(10)"
   ]
  },
  {
   "cell_type": "code",
   "execution_count": 13,
   "metadata": {
    "collapsed": false
   },
   "outputs": [
    {
     "name": "stdout",
     "output_type": "stream",
     "text": [
      "Index(['Co-expression', 'Genetic interactions', 'Protein-protein interactions',\n",
      "       'Domain co-occurrence', 'Genomic context', 'Phylogenetic similarity',\n",
      "       'Predicted from 3D structure', 'Conditional genetic interactions',\n",
      "       'Co-expression.1', 'Genetic interactions.1',\n",
      "       'Protein-protein interactions.1', 'Domain co-occurrence.1',\n",
      "       'Genomic context.1', 'Phylogenetic similarity.1',\n",
      "       'Predicted from 3D structure.1', 'Conditional genetic interactions.1'],\n",
      "      dtype='object')\n"
     ]
    }
   ],
   "source": [
    "interaction_types = df_raw2.columns[2:]\n",
    "print(interaction_types)"
   ]
  },
  {
   "cell_type": "code",
   "execution_count": 14,
   "metadata": {
    "collapsed": true
   },
   "outputs": [],
   "source": [
    "def create_edges(source, target, row, headers, g):\n",
    "    edges = []\n",
    "    \n",
    "    scores = row[3:10]\n",
    "    pubs = row[11:]\n",
    "    for i, score in enumerate(scores):\n",
    "        if score == 0:\n",
    "            continue\n",
    "        else:\n",
    "            e = Relationship(source, headers[i], target)\n",
    "            e.properties[\"score\"] = score\n",
    "            e.properties[\"publication\"] = str(pubs[i])\n",
    "\n",
    "            e.properties[\"type\"] = \"raw_interaction\" \n",
    "            g.create(e)\n",
    "            \n",
    "def create_node(key, idx, gene_details):\n",
    "    node_dict = None\n",
    "    \n",
    "    if key in gene_details:\n",
    "        details = gene_details[key]\n",
    "        node_dict = {\n",
    "                    \"name\": key,\n",
    "                    \"term_name\": key,\n",
    "                    \"sgd\": details['sgd'],\n",
    "                    \"full_name\": details[\"name\"],\n",
    "                    \"synonyms\": details[\"syn_list\"] }\n",
    "    else:\n",
    "        node_dict = {\n",
    "           \"name\": key,\n",
    "            \"term_name\": key\n",
    "        }\n",
    "    \n",
    "    node = idx.get_or_create(\"name\", key, node_dict)\n",
    "    \n",
    "    return node"
   ]
  },
  {
   "cell_type": "code",
   "execution_count": 15,
   "metadata": {
    "collapsed": false
   },
   "outputs": [
    {
     "name": "stdout",
     "output_type": "stream",
     "text": [
      "OK\n"
     ]
    }
   ],
   "source": [
    "if \"SNX4\" in gene_details:\n",
    "    print(\"OK\")"
   ]
  },
  {
   "cell_type": "code",
   "execution_count": 16,
   "metadata": {
    "collapsed": false
   },
   "outputs": [],
   "source": [
    "for row in df_raw2.itertuples():\n",
    "    s = str(row[1])\n",
    "    t = str(row[2])\n",
    "    s_node = idx.get(\"name\", s)\n",
    "    t_node = idx.get(\"name\", t)\n",
    "    \n",
    "    if len(t_node) == 0:\n",
    "        target = create_node(t, idx, gene_details)\n",
    "    else:\n",
    "        target = t_node[0]\n",
    "        \n",
    "    if len(s_node) == 0:\n",
    "        source = create_node(s, idx, gene_details)\n",
    "    else:\n",
    "        source = s_node[0]\n",
    "    \n",
    "    create_edges(source, target, row, interaction_types, g)\n",
    "    \n",
    "#     e = Relationship(source, \"interact_with\", target)\n",
    "    \n",
    "#     # Add properties\n",
    "#     props = row[3:]\n",
    "    \n",
    "#     for i, prop in enumerate(props):\n",
    "#         e.properties[interaction_types[i]] = prop\n",
    "    \n",
    "#     g.create(e)"
   ]
  },
  {
   "cell_type": "code",
   "execution_count": 17,
   "metadata": {
    "collapsed": false
   },
   "outputs": [
    {
     "data": {
      "text/plain": [
       "38603"
      ]
     },
     "execution_count": 17,
     "metadata": {},
     "output_type": "execute_result"
    }
   ],
   "source": [
    "g.size"
   ]
  }
 ],
 "metadata": {
  "kernelspec": {
   "display_name": "Python 3",
   "language": "python",
   "name": "python3"
  },
  "language_info": {
   "codemirror_mode": {
    "name": "ipython",
    "version": 3
   },
   "file_extension": ".py",
   "mimetype": "text/x-python",
   "name": "python",
   "nbconvert_exporter": "python",
   "pygments_lexer": "ipython3",
   "version": "3.5.1"
  }
 },
 "nbformat": 4,
 "nbformat_minor": 0
}
